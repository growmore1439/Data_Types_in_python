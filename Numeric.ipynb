{
 "cells": [
  {
   "cell_type": "markdown",
   "id": "0b01cf95-78ca-4b29-b0ae-cb777547a9b3",
   "metadata": {},
   "source": [
    "# Integer"
   ]
  },
  {
   "cell_type": "raw",
   "id": "86122048-e51b-4824-9f52-c3fc3922ef7a",
   "metadata": {},
   "source": [
    "#integer Is a Whole Number, Positive or Negative, Without Decimals, of unlimited length."
   ]
  },
  {
   "cell_type": "raw",
   "id": "2b2465c6-ff73-441a-9196-d179a5f8ef67",
   "metadata": {},
   "source": [
    "#Example : (1,2,3,4,5,6,7,8,9...To End) And (-1,-2-,-3,-4,-5,-6,-7,-8,-9...To End )"
   ]
  },
  {
   "cell_type": "raw",
   "id": "61c7fcea-16fa-4d26-af48-138953dba547",
   "metadata": {},
   "source": [
    "#Without Decimals Means (1.1, 3.00, 00.01, 88.65) This Type Not Allowed In Integer."
   ]
  },
  {
   "cell_type": "code",
   "execution_count": 1,
   "id": "1e56e9d4-47e0-460d-af2b-1c903deb2735",
   "metadata": {},
   "outputs": [],
   "source": [
    "x = 55"
   ]
  },
  {
   "cell_type": "code",
   "execution_count": 2,
   "id": "ece0f23d-7199-4059-95ba-27bde870adac",
   "metadata": {},
   "outputs": [],
   "source": [
    "y = 40"
   ]
  },
  {
   "cell_type": "code",
   "execution_count": 3,
   "id": "178766be-1ded-4b60-b4ea-22fbfa8e6fec",
   "metadata": {},
   "outputs": [],
   "source": [
    "z = 35"
   ]
  },
  {
   "cell_type": "raw",
   "id": "9bfc52e5-39d9-4d81-97ba-fb6f32da1da4",
   "metadata": {},
   "source": [
    "#This Value Is Intiger Type How Can We Check That..There Are One Command.Call As (Type) "
   ]
  },
  {
   "cell_type": "code",
   "execution_count": 4,
   "id": "f5b74f6a-000c-4a85-8c42-e5ca65a56bce",
   "metadata": {},
   "outputs": [
    {
     "data": {
      "text/plain": [
       "int"
      ]
     },
     "execution_count": 4,
     "metadata": {},
     "output_type": "execute_result"
    }
   ],
   "source": [
    "type(x)"
   ]
  },
  {
   "cell_type": "code",
   "execution_count": 5,
   "id": "8b507226-0c53-498a-9a9c-379b52a26d19",
   "metadata": {},
   "outputs": [
    {
     "data": {
      "text/plain": [
       "int"
      ]
     },
     "execution_count": 5,
     "metadata": {},
     "output_type": "execute_result"
    }
   ],
   "source": [
    "type(y)"
   ]
  },
  {
   "cell_type": "code",
   "execution_count": 6,
   "id": "cd54a76f-b4c9-48f8-8eb1-feb724bb3e40",
   "metadata": {},
   "outputs": [
    {
     "data": {
      "text/plain": [
       "int"
      ]
     },
     "execution_count": 6,
     "metadata": {},
     "output_type": "execute_result"
    }
   ],
   "source": [
    "type(z)"
   ]
  },
  {
   "cell_type": "raw",
   "id": "3bff266c-2659-43af-9cbd-8cf5a3e77b60",
   "metadata": {},
   "source": [
    "#And How We Check All in One In ONE Step There Is Command Call As (Print)"
   ]
  },
  {
   "cell_type": "code",
   "execution_count": 13,
   "id": "a03d3a20-bd5a-4c31-a8d1-456d2937e9ac",
   "metadata": {},
   "outputs": [
    {
     "name": "stdout",
     "output_type": "stream",
     "text": [
      "<class 'int'>\n",
      "<class 'int'>\n",
      "<class 'int'>\n"
     ]
    }
   ],
   "source": [
    "print(type(x))\n",
    "print(type(y))\n",
    "print(type(z))"
   ]
  },
  {
   "cell_type": "markdown",
   "id": "812e7b24-cace-441d-9fe8-f91fd65a7e2c",
   "metadata": {},
   "source": [
    "#We Learn Two Function Now, First (Type) And Seccond IS (Print)"
   ]
  },
  {
   "cell_type": "raw",
   "id": "1830d85a-301b-4c38-8597-80d17cd5128c",
   "metadata": {},
   "source": [
    "#Type :function prints what type of data structures are used to store the data elements in a program."
   ]
  },
  {
   "cell_type": "markdown",
   "id": "3c7113b6-1669-4674-b01e-eb139bba0e69",
   "metadata": {},
   "source": [
    "#Print :method is used to print a given message to the screen or any output device."
   ]
  },
  {
   "cell_type": "markdown",
   "id": "443e714e-1875-4d7f-974f-a2688fb73fc0",
   "metadata": {},
   "source": [
    "# Float"
   ]
  },
  {
   "cell_type": "raw",
   "id": "d07423e4-3703-49c9-8135-3fe94d670cfb",
   "metadata": {},
   "source": [
    "#Float, is a number, positive or negative, containing one or more decimals.\n",
    "\n"
   ]
  },
  {
   "cell_type": "code",
   "execution_count": 16,
   "id": "06e54e45-205f-4b8a-bdda-985312e2f522",
   "metadata": {},
   "outputs": [],
   "source": [
    "a = 1.98"
   ]
  },
  {
   "cell_type": "code",
   "execution_count": 17,
   "id": "14fa8981-9df6-4fb5-b0c3-ff2e08089a35",
   "metadata": {},
   "outputs": [],
   "source": [
    "b = 2.0"
   ]
  },
  {
   "cell_type": "code",
   "execution_count": 18,
   "id": "7cb0007f-b2ca-460e-b0f0-5baa51277cb4",
   "metadata": {},
   "outputs": [],
   "source": [
    "c = 56.78"
   ]
  },
  {
   "cell_type": "raw",
   "id": "3bab8b23-ad80-4256-92c0-3e4e1e48cf38",
   "metadata": {},
   "source": [
    "#This Value Is Float Type How Can We Check That..There Are One Command.Call As (Type)"
   ]
  },
  {
   "cell_type": "code",
   "execution_count": 19,
   "id": "49a0b1da-f849-42f5-aa9b-f2d0624a31c4",
   "metadata": {},
   "outputs": [
    {
     "data": {
      "text/plain": [
       "float"
      ]
     },
     "execution_count": 19,
     "metadata": {},
     "output_type": "execute_result"
    }
   ],
   "source": [
    "type(a)"
   ]
  },
  {
   "cell_type": "code",
   "execution_count": 20,
   "id": "8e519b5e-bbef-4e6c-a332-56ff93df726e",
   "metadata": {},
   "outputs": [
    {
     "data": {
      "text/plain": [
       "float"
      ]
     },
     "execution_count": 20,
     "metadata": {},
     "output_type": "execute_result"
    }
   ],
   "source": [
    "type(b)"
   ]
  },
  {
   "cell_type": "code",
   "execution_count": 21,
   "id": "1e54bbc5-af2f-4dc5-bf2f-c939f96ec033",
   "metadata": {},
   "outputs": [
    {
     "data": {
      "text/plain": [
       "float"
      ]
     },
     "execution_count": 21,
     "metadata": {},
     "output_type": "execute_result"
    }
   ],
   "source": [
    "type(c)"
   ]
  },
  {
   "cell_type": "raw",
   "id": "04faa1e9-759c-404a-8755-ffff90fa061f",
   "metadata": {},
   "source": [
    "#And How We Check All in One In ONE Step There Is Command Call As (Print)"
   ]
  },
  {
   "cell_type": "code",
   "execution_count": 33,
   "id": "d391f928-e64b-47a9-b195-eb3697fa2302",
   "metadata": {},
   "outputs": [
    {
     "name": "stdout",
     "output_type": "stream",
     "text": [
      "<class 'float'>\n",
      "<class 'float'>\n",
      "<class 'float'>\n"
     ]
    }
   ],
   "source": [
    "print(type(a))\n",
    "print(type(b))\n",
    "print(type(c))"
   ]
  },
  {
   "cell_type": "raw",
   "id": "3c789462-1f45-42e2-b554-3220f97a69e2",
   "metadata": {},
   "source": [
    "#Float can also be scientific numbers with an \"e\" \"E\" In Middle Of Any Number."
   ]
  },
  {
   "cell_type": "raw",
   "id": "5683557c-58c6-4fd5-98ae-f14bc9e2b6f3",
   "metadata": {},
   "source": [
    "#Example : 24e6 , 66E88, 88e32, 7e9 , 2E5 etc"
   ]
  },
  {
   "cell_type": "code",
   "execution_count": 34,
   "id": "38b52629-7719-4cac-aca7-27f2be61ac1a",
   "metadata": {},
   "outputs": [],
   "source": [
    "d = 14e39"
   ]
  },
  {
   "cell_type": "code",
   "execution_count": 35,
   "id": "86caeb02-dfc8-4f0e-9646-3ec860fd915b",
   "metadata": {},
   "outputs": [
    {
     "data": {
      "text/plain": [
       "float"
      ]
     },
     "execution_count": 35,
     "metadata": {},
     "output_type": "execute_result"
    }
   ],
   "source": [
    "type(d)"
   ]
  },
  {
   "cell_type": "markdown",
   "id": "35b1bd74-62ad-4779-9707-29881ae6cef4",
   "metadata": {},
   "source": [
    "# Complex"
   ]
  },
  {
   "cell_type": "raw",
   "id": "e276f84c-fb20-4e92-8348-072091c7dd88",
   "metadata": {},
   "source": [
    "#Complex numbers are written with a \"j\" as the imaginary part"
   ]
  },
  {
   "cell_type": "raw",
   "id": "831ca1ce-58f6-4d96-95fe-b3e82f59e7a8",
   "metadata": {},
   "source": [
    "#Example : a = 5j , b = 2j , c = 7j, d + 5j...."
   ]
  },
  {
   "cell_type": "code",
   "execution_count": 41,
   "id": "d7335ccd-4ebc-4d7a-928e-5087ef691f94",
   "metadata": {},
   "outputs": [],
   "source": [
    "f = 2j"
   ]
  },
  {
   "cell_type": "code",
   "execution_count": 42,
   "id": "5f63e88d-f296-4eb4-b0a3-570aa7032000",
   "metadata": {},
   "outputs": [
    {
     "data": {
      "text/plain": [
       "complex"
      ]
     },
     "execution_count": 42,
     "metadata": {},
     "output_type": "execute_result"
    }
   ],
   "source": [
    "type(f)"
   ]
  },
  {
   "cell_type": "code",
   "execution_count": null,
   "id": "12c5d8d1-7a30-48d2-8232-77be3e5c0ffd",
   "metadata": {},
   "outputs": [],
   "source": []
  }
 ],
 "metadata": {
  "kernelspec": {
   "display_name": "Python 3 (ipykernel)",
   "language": "python",
   "name": "python3"
  },
  "language_info": {
   "codemirror_mode": {
    "name": "ipython",
    "version": 3
   },
   "file_extension": ".py",
   "mimetype": "text/x-python",
   "name": "python",
   "nbconvert_exporter": "python",
   "pygments_lexer": "ipython3",
   "version": "3.12.7"
  }
 },
 "nbformat": 4,
 "nbformat_minor": 5
}
