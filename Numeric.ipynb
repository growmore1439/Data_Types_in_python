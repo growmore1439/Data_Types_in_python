{
 "cells": [
  {
   "cell_type": "markdown",
   "id": "0b01cf95-78ca-4b29-b0ae-cb777547a9b3",
   "metadata": {},
   "source": [
    "# Integer"
   ]
  },
  {
   "cell_type": "markdown",
   "id": "b6cd4d83-6004-478b-a3ed-949cd8082a40",
   "metadata": {},
   "source": [
    "'integer Is a Whole Number, Positive or Negative, Without Decimals, of unlimited length.'"
   ]
  },
  {
   "cell_type": "markdown",
   "id": "5d264679-7268-4cca-b6cf-5501fc001369",
   "metadata": {},
   "source": [
    "'Example : (1,2,3,4,5,6,7,8,9...To End) And (-1,-2-,-3,-4,-5,-6,-7,-8,-9...To End )'"
   ]
  },
  {
   "cell_type": "markdown",
   "id": "5c6963dc-4489-407a-a5a1-52c4d6c6c93c",
   "metadata": {},
   "source": [
    "'Without Decimals Means (1.1, 3.00, 00.01, 88.65) This Type Not Allowed In Integer.'"
   ]
  },
  {
   "cell_type": "code",
   "execution_count": 1,
   "id": "1e56e9d4-47e0-460d-af2b-1c903deb2735",
   "metadata": {},
   "outputs": [],
   "source": [
    "x = 55"
   ]
  },
  {
   "cell_type": "code",
   "execution_count": 2,
   "id": "ece0f23d-7199-4059-95ba-27bde870adac",
   "metadata": {},
   "outputs": [],
   "source": [
    "y = 40"
   ]
  },
  {
   "cell_type": "code",
   "execution_count": 3,
   "id": "178766be-1ded-4b60-b4ea-22fbfa8e6fec",
   "metadata": {},
   "outputs": [],
   "source": [
    "z = 35"
   ]
  },
  {
   "cell_type": "markdown",
   "id": "32665c56-1861-4477-af18-ef30dc5bbdf7",
   "metadata": {},
   "source": [
    "'This Value Is Intiger Type How Can We Check That..There Are One Command.Call As (Type)'"
   ]
  },
  {
   "cell_type": "code",
   "execution_count": 4,
   "id": "f5b74f6a-000c-4a85-8c42-e5ca65a56bce",
   "metadata": {},
   "outputs": [
    {
     "data": {
      "text/plain": [
       "int"
      ]
     },
     "execution_count": 4,
     "metadata": {},
     "output_type": "execute_result"
    }
   ],
   "source": [
    "type(x)"
   ]
  },
  {
   "cell_type": "code",
   "execution_count": 5,
   "id": "8b507226-0c53-498a-9a9c-379b52a26d19",
   "metadata": {},
   "outputs": [
    {
     "data": {
      "text/plain": [
       "int"
      ]
     },
     "execution_count": 5,
     "metadata": {},
     "output_type": "execute_result"
    }
   ],
   "source": [
    "type(y)"
   ]
  },
  {
   "cell_type": "code",
   "execution_count": 6,
   "id": "cd54a76f-b4c9-48f8-8eb1-feb724bb3e40",
   "metadata": {},
   "outputs": [
    {
     "data": {
      "text/plain": [
       "int"
      ]
     },
     "execution_count": 6,
     "metadata": {},
     "output_type": "execute_result"
    }
   ],
   "source": [
    "type(z)"
   ]
  },
  {
   "cell_type": "markdown",
   "id": "c59dac94-e92c-42a2-8c5f-19289413f545",
   "metadata": {},
   "source": [
    "'And How We Check All in One In ONE Step There Is Command Call As (Print)'"
   ]
  },
  {
   "cell_type": "code",
   "execution_count": 13,
   "id": "a03d3a20-bd5a-4c31-a8d1-456d2937e9ac",
   "metadata": {},
   "outputs": [
    {
     "name": "stdout",
     "output_type": "stream",
     "text": [
      "<class 'int'>\n",
      "<class 'int'>\n",
      "<class 'int'>\n"
     ]
    }
   ],
   "source": [
    "print(type(x))\n",
    "print(type(y))\n",
    "print(type(z))"
   ]
  },
  {
   "cell_type": "markdown",
   "id": "812e7b24-cace-441d-9fe8-f91fd65a7e2c",
   "metadata": {},
   "source": [
    "'We Learn Two Function Now, First (Type) And Seccond IS (Print)'"
   ]
  },
  {
   "cell_type": "markdown",
   "id": "4dd5eebc-db4f-4160-ad21-8f3e33dd3c69",
   "metadata": {},
   "source": [
    "'Type :function prints what type of data structures are used to store the data elements in a program.'"
   ]
  },
  {
   "cell_type": "markdown",
   "id": "3c7113b6-1669-4674-b01e-eb139bba0e69",
   "metadata": {},
   "source": [
    "'Print :method is used to print a given message to the screen or any output device.'"
   ]
  },
  {
   "cell_type": "markdown",
   "id": "443e714e-1875-4d7f-974f-a2688fb73fc0",
   "metadata": {},
   "source": [
    "# Float"
   ]
  },
  {
   "cell_type": "markdown",
   "id": "6301fac1-fc56-43e1-88bc-208c0c113796",
   "metadata": {},
   "source": [
    "'Float, is a number, positive or negative, containing one or more decimals.'"
   ]
  },
  {
   "cell_type": "code",
   "execution_count": 16,
   "id": "06e54e45-205f-4b8a-bdda-985312e2f522",
   "metadata": {},
   "outputs": [],
   "source": [
    "a = 1.98"
   ]
  },
  {
   "cell_type": "code",
   "execution_count": 17,
   "id": "14fa8981-9df6-4fb5-b0c3-ff2e08089a35",
   "metadata": {},
   "outputs": [],
   "source": [
    "b = 2.0"
   ]
  },
  {
   "cell_type": "code",
   "execution_count": 18,
   "id": "7cb0007f-b2ca-460e-b0f0-5baa51277cb4",
   "metadata": {},
   "outputs": [],
   "source": [
    "c = 56.78"
   ]
  },
  {
   "cell_type": "markdown",
   "id": "4fe37f3e-7282-4449-909d-9906eb6dfa4a",
   "metadata": {},
   "source": [
    "'This Value Is Float Type How Can We Check That..There Are One Command.Call As (Type)'"
   ]
  },
  {
   "cell_type": "code",
   "execution_count": 19,
   "id": "49a0b1da-f849-42f5-aa9b-f2d0624a31c4",
   "metadata": {},
   "outputs": [
    {
     "data": {
      "text/plain": [
       "float"
      ]
     },
     "execution_count": 19,
     "metadata": {},
     "output_type": "execute_result"
    }
   ],
   "source": [
    "type(a)"
   ]
  },
  {
   "cell_type": "code",
   "execution_count": 20,
   "id": "8e519b5e-bbef-4e6c-a332-56ff93df726e",
   "metadata": {},
   "outputs": [
    {
     "data": {
      "text/plain": [
       "float"
      ]
     },
     "execution_count": 20,
     "metadata": {},
     "output_type": "execute_result"
    }
   ],
   "source": [
    "type(b)"
   ]
  },
  {
   "cell_type": "code",
   "execution_count": 21,
   "id": "1e54bbc5-af2f-4dc5-bf2f-c939f96ec033",
   "metadata": {},
   "outputs": [
    {
     "data": {
      "text/plain": [
       "float"
      ]
     },
     "execution_count": 21,
     "metadata": {},
     "output_type": "execute_result"
    }
   ],
   "source": [
    "type(c)"
   ]
  },
  {
   "cell_type": "markdown",
   "id": "fb1c8fd4-b172-4b61-9fb0-ce715b9e8263",
   "metadata": {},
   "source": [
    "'And How We Check All in One In ONE Step There Is Command Call As (Print)'"
   ]
  },
  {
   "cell_type": "code",
   "execution_count": 33,
   "id": "d391f928-e64b-47a9-b195-eb3697fa2302",
   "metadata": {},
   "outputs": [
    {
     "name": "stdout",
     "output_type": "stream",
     "text": [
      "<class 'float'>\n",
      "<class 'float'>\n",
      "<class 'float'>\n"
     ]
    }
   ],
   "source": [
    "print(type(a))\n",
    "print(type(b))\n",
    "print(type(c))"
   ]
  },
  {
   "cell_type": "markdown",
   "id": "f7612091-4ab1-4157-a791-7506214268e6",
   "metadata": {},
   "source": [
    "'Float can also be scientific numbers with an \"e\" \"E\" In Middle Of Any Number.'"
   ]
  },
  {
   "cell_type": "markdown",
   "id": "4e01d6f0-eb02-450c-b32c-6d8ad5905419",
   "metadata": {},
   "source": [
    "'Example : 24e6 , 66E88, 88e32, 7e9 , 2E5 etc'"
   ]
  },
  {
   "cell_type": "code",
   "execution_count": 34,
   "id": "38b52629-7719-4cac-aca7-27f2be61ac1a",
   "metadata": {},
   "outputs": [],
   "source": [
    "d = 14e39"
   ]
  },
  {
   "cell_type": "code",
   "execution_count": 35,
   "id": "86caeb02-dfc8-4f0e-9646-3ec860fd915b",
   "metadata": {},
   "outputs": [
    {
     "data": {
      "text/plain": [
       "float"
      ]
     },
     "execution_count": 35,
     "metadata": {},
     "output_type": "execute_result"
    }
   ],
   "source": [
    "type(d)"
   ]
  },
  {
   "cell_type": "markdown",
   "id": "35b1bd74-62ad-4779-9707-29881ae6cef4",
   "metadata": {},
   "source": [
    "# Complex"
   ]
  },
  {
   "cell_type": "markdown",
   "id": "4704a25b-b449-40aa-80d0-e917846e1b82",
   "metadata": {},
   "source": [
    "'Complex numbers are written with a \"j\" as the imaginary part'"
   ]
  },
  {
   "cell_type": "markdown",
   "id": "5b8e9fb2-e973-4aa8-a47e-99666c8897bd",
   "metadata": {},
   "source": [
    "'Example : a = 5j , b = 2j , c = 7j, d + 5j....'"
   ]
  },
  {
   "cell_type": "code",
   "execution_count": 41,
   "id": "d7335ccd-4ebc-4d7a-928e-5087ef691f94",
   "metadata": {},
   "outputs": [],
   "source": [
    "f = 2j"
   ]
  },
  {
   "cell_type": "code",
   "execution_count": 42,
   "id": "5f63e88d-f296-4eb4-b0a3-570aa7032000",
   "metadata": {},
   "outputs": [
    {
     "data": {
      "text/plain": [
       "complex"
      ]
     },
     "execution_count": 42,
     "metadata": {},
     "output_type": "execute_result"
    }
   ],
   "source": [
    "type(f)"
   ]
  },
  {
   "cell_type": "code",
   "execution_count": 45,
   "id": "12c5d8d1-7a30-48d2-8232-77be3e5c0ffd",
   "metadata": {},
   "outputs": [
    {
     "name": "stdout",
     "output_type": "stream",
     "text": [
      "<class 'complex'>\n"
     ]
    }
   ],
   "source": [
    "print(type(f))"
   ]
  },
  {
   "cell_type": "code",
   "execution_count": null,
   "id": "f7673dc4-bb76-42a9-8f9e-6691987f1c1f",
   "metadata": {},
   "outputs": [],
   "source": []
  }
 ],
 "metadata": {
  "kernelspec": {
   "display_name": "Python 3 (ipykernel)",
   "language": "python",
   "name": "python3"
  },
  "language_info": {
   "codemirror_mode": {
    "name": "ipython",
    "version": 3
   },
   "file_extension": ".py",
   "mimetype": "text/x-python",
   "name": "python",
   "nbconvert_exporter": "python",
   "pygments_lexer": "ipython3",
   "version": "3.12.7"
  }
 },
 "nbformat": 4,
 "nbformat_minor": 5
}
